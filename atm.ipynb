{
 "cells": [
  {
   "cell_type": "code",
   "execution_count": null,
   "id": "08f2abf1-7bb2-40d2-a04a-0d8b982f5803",
   "metadata": {},
   "outputs": [],
   "source": []
  },
  {
   "cell_type": "code",
   "execution_count": 6,
   "id": "5a750a2e-f549-44bd-8407-14d2818a88a7",
   "metadata": {},
   "outputs": [],
   "source": [
    "class ATM :\n",
    "    def __init__(self):\n",
    "        print(id(self))\n",
    "        self.pin=\"\"\n",
    "        self.balance = 0\n",
    "        self.menu()\n",
    "        \n",
    "    def menu(self):\n",
    "        user_input = input(\"\"\"\n",
    "        hi how can i help you ?\n",
    "        1.press 1 to create pin.\n",
    "        2.press 2 to change pin.\n",
    "        3.press 3 to check balance.\n",
    "        4.press 4 to check withdraw.\n",
    "        5.Exit\n",
    "        \"\"\")\n",
    "        if user_input == \"1\" :\n",
    "            self.create_pin()\n",
    "        elif user_input == \"2\":\n",
    "            self.change_pin()\n",
    "        elif user_input == \"3\":\n",
    "            self.check_balance()\n",
    "        elif user_input == \"4\":\n",
    "            self.withdraw()\n",
    "        else :\n",
    "            exit()\n",
    "            \n",
    "    def create_pin(self):\n",
    "        user_pin = input(\"enter your pin: \")\n",
    "        self.pin = user_pin\n",
    "\n",
    "        user_balance = int(input(\"enter your balance: \"))\n",
    "        self.balance = user_balance\n",
    "        \n",
    "        print(\"pin create sucessfully\")\n",
    "        self.menu()\n",
    "        \n",
    "    def change_pin(self):\n",
    "        old_pin = input(\"enter your old pin: \")\n",
    "        if old_pin == self.pin:\n",
    "            new_pin = input(\"enter your new pin: \")\n",
    "            self.pin = new_pin\n",
    "            print('pin change successful')\n",
    "            self.menu()\n",
    "        else:\n",
    "            print(\"try again\")\n",
    "            self.menu()\n",
    "            \n",
    "    def check_balance(self):\n",
    "        user_pin = input(\"enter your pin: \")\n",
    "        if user_pin == self.pin:\n",
    "            print('your balance is ',self.balance)\n",
    "        else:\n",
    "            print('no balance')\n",
    "        self.menu()\n",
    "            \n",
    "    def withdraw(self):\n",
    "        user_pin = input(\"enter the pin: \")\n",
    "        if user_pin == self.pin:\n",
    "            amount = int(input(\"enter the amount: \"))\n",
    "            if amount <= self.balance:\n",
    "                self.balance = self.balance - amount\n",
    "                print(\"withdrawl successful.balance is\",self.balance)\n",
    "            else:\n",
    "                print(\"no balance\")\n",
    "        else:\n",
    "            print(\"try again\")\n",
    "        self.menu()"
   ]
  },
  {
   "cell_type": "code",
   "execution_count": 7,
   "id": "cbb2e726-d29e-402f-9f50-544b49eaaf25",
   "metadata": {},
   "outputs": [
    {
     "name": "stdout",
     "output_type": "stream",
     "text": [
      "2275027081872\n"
     ]
    },
    {
     "name": "stdin",
     "output_type": "stream",
     "text": [
      "\n",
      "        hi how can i help you ?\n",
      "        1.press 1 to create pin.\n",
      "        2.press 2 to change pin.\n",
      "        3.press 3 to check balance.\n",
      "        4.press 4 to check withdraw.\n",
      "        5.Exit\n",
      "         1\n",
      "enter your pin:  123\n",
      "enter your balance:  123654899885\n"
     ]
    },
    {
     "name": "stdout",
     "output_type": "stream",
     "text": [
      "pin create sucessfully\n"
     ]
    },
    {
     "name": "stdin",
     "output_type": "stream",
     "text": [
      "\n",
      "        hi how can i help you ?\n",
      "        1.press 1 to create pin.\n",
      "        2.press 2 to change pin.\n",
      "        3.press 3 to check balance.\n",
      "        4.press 4 to check withdraw.\n",
      "        5.Exit\n",
      "         2\n",
      "enter your old pin:  123\n",
      "enter your new pin:  12345\n"
     ]
    },
    {
     "name": "stdout",
     "output_type": "stream",
     "text": [
      "pin change successful\n"
     ]
    },
    {
     "name": "stdin",
     "output_type": "stream",
     "text": [
      "\n",
      "        hi how can i help you ?\n",
      "        1.press 1 to create pin.\n",
      "        2.press 2 to change pin.\n",
      "        3.press 3 to check balance.\n",
      "        4.press 4 to check withdraw.\n",
      "        5.Exit\n",
      "         3\n",
      "enter your pin:  12345\n"
     ]
    },
    {
     "name": "stdout",
     "output_type": "stream",
     "text": [
      "your balance is  123654899885\n"
     ]
    },
    {
     "name": "stdin",
     "output_type": "stream",
     "text": [
      "\n",
      "        hi how can i help you ?\n",
      "        1.press 1 to create pin.\n",
      "        2.press 2 to change pin.\n",
      "        3.press 3 to check balance.\n",
      "        4.press 4 to check withdraw.\n",
      "        5.Exit\n",
      "         4\n",
      "enter the pin:  12345\n",
      "enter the amount:  99885\n"
     ]
    },
    {
     "name": "stdout",
     "output_type": "stream",
     "text": [
      "withdrawl successful.balance is 123654800000\n"
     ]
    },
    {
     "name": "stdin",
     "output_type": "stream",
     "text": [
      "\n",
      "        hi how can i help you ?\n",
      "        1.press 1 to create pin.\n",
      "        2.press 2 to change pin.\n",
      "        3.press 3 to check balance.\n",
      "        4.press 4 to check withdraw.\n",
      "        5.Exit\n",
      "         5\n"
     ]
    }
   ],
   "source": [
    "atm = ATM()"
   ]
  },
  {
   "cell_type": "code",
   "execution_count": null,
   "id": "6231a4af-4566-47ef-8b42-c28875fb74ff",
   "metadata": {},
   "outputs": [],
   "source": []
  },
  {
   "cell_type": "code",
   "execution_count": null,
   "id": "ba4eb24d-4885-48e7-92a7-e19b1b81b72b",
   "metadata": {},
   "outputs": [],
   "source": []
  },
  {
   "cell_type": "code",
   "execution_count": null,
   "id": "4965569f-73c8-44cc-9deb-679b6f6b929d",
   "metadata": {},
   "outputs": [],
   "source": []
  },
  {
   "cell_type": "code",
   "execution_count": null,
   "id": "6f68cf0f-47bd-44e7-82f0-ccb5f5dc5bb4",
   "metadata": {},
   "outputs": [],
   "source": []
  },
  {
   "cell_type": "code",
   "execution_count": null,
   "id": "75c0ee45-294c-467d-82ee-f697179d0d84",
   "metadata": {},
   "outputs": [],
   "source": []
  },
  {
   "cell_type": "code",
   "execution_count": null,
   "id": "4a1e0c04-a5b5-4cb3-8364-80f54bb23f38",
   "metadata": {},
   "outputs": [],
   "source": []
  },
  {
   "cell_type": "code",
   "execution_count": null,
   "id": "a670b808-6d11-4c7c-ae98-c2ced85e14e9",
   "metadata": {},
   "outputs": [],
   "source": []
  },
  {
   "cell_type": "code",
   "execution_count": null,
   "id": "af647098-cc48-4824-90cd-56c2d1e11a51",
   "metadata": {},
   "outputs": [],
   "source": []
  },
  {
   "cell_type": "code",
   "execution_count": null,
   "id": "537d2114-f8af-44ec-977b-457fafe5a9c1",
   "metadata": {},
   "outputs": [],
   "source": []
  },
  {
   "cell_type": "code",
   "execution_count": null,
   "id": "f98bee06-86a4-4c32-a4c9-a25ccb81b492",
   "metadata": {},
   "outputs": [],
   "source": []
  },
  {
   "cell_type": "code",
   "execution_count": null,
   "id": "a90092c3-2884-40fc-878b-393769d025da",
   "metadata": {},
   "outputs": [],
   "source": []
  },
  {
   "cell_type": "code",
   "execution_count": null,
   "id": "8a7026a9-d81e-4d91-9780-bb3c50f38d9f",
   "metadata": {},
   "outputs": [],
   "source": []
  },
  {
   "cell_type": "code",
   "execution_count": null,
   "id": "e67c1759-ac52-44cb-91bc-c94ffd524b0c",
   "metadata": {},
   "outputs": [],
   "source": []
  },
  {
   "cell_type": "code",
   "execution_count": null,
   "id": "bf220389-1cbe-419c-8333-b6710ebd9bae",
   "metadata": {},
   "outputs": [],
   "source": []
  },
  {
   "cell_type": "code",
   "execution_count": null,
   "id": "a8b6b6ca-9454-4154-9416-b2cb04fefcc5",
   "metadata": {},
   "outputs": [],
   "source": []
  },
  {
   "cell_type": "code",
   "execution_count": null,
   "id": "addbc8fe-fbd7-42e2-ab7f-c97cdf661d69",
   "metadata": {},
   "outputs": [],
   "source": []
  },
  {
   "cell_type": "code",
   "execution_count": null,
   "id": "0cd8d6c1-912b-4a11-9639-19ead778b00b",
   "metadata": {},
   "outputs": [],
   "source": []
  }
 ],
 "metadata": {
  "kernelspec": {
   "display_name": "Python 3 (ipykernel)",
   "language": "python",
   "name": "python3"
  },
  "language_info": {
   "codemirror_mode": {
    "name": "ipython",
    "version": 3
   },
   "file_extension": ".py",
   "mimetype": "text/x-python",
   "name": "python",
   "nbconvert_exporter": "python",
   "pygments_lexer": "ipython3",
   "version": "3.13.2"
  }
 },
 "nbformat": 4,
 "nbformat_minor": 5
}
